{
  "metadata": {
    "language_info": {
      "codemirror_mode": {
        "name": "python",
        "version": 3
      },
      "file_extension": ".py",
      "mimetype": "text/x-python",
      "name": "python",
      "nbconvert_exporter": "python",
      "pygments_lexer": "ipython3",
      "version": "3.8"
    },
    "kernelspec": {
      "name": "python",
      "display_name": "Python (Pyodide)",
      "language": "python"
    }
  },
  "nbformat_minor": 4,
  "nbformat": 4,
  "cells": [
    {
      "cell_type": "code",
      "source": "# CARD\n# SUIT, RANK, VALUE  \nsuits = ('Hearts', 'Diamonds', 'Spades', 'Clubs')\nranks = ('Two', 'Three', 'Four', 'Five', 'Six', 'Seven', 'Eight', 'Nine', 'Ten', 'Jack', 'Queen', 'King', 'Ace')\nvalues = {'Two':2, 'Three':3, 'Four':4, 'Five':5, 'Six':6, 'Seven':7, 'Eight':8, \n            'Nine':9, 'Ten':10, 'Jack':11, 'Queen':12, 'King':13, 'Ace':14}",
      "metadata": {
        "trusted": true
      },
      "execution_count": 14,
      "outputs": []
    },
    {
      "cell_type": "code",
      "source": "class Card:\n    \n    def __init__(self,suit,rank):\n        self.suit = suit\n        self.rank = rank\n        self.value = values[rank]\n        \n    def __str__(self):\n        return self.rank + ' of ' + self.suit",
      "metadata": {},
      "execution_count": null,
      "outputs": []
    },
    {
      "cell_type": "code",
      "source": "class Deck():\n    \n    def __init__(self):\n        self.all_cards = []\n        \n        for suit in suits:\n            for rank in ranks:\n                # create the card object\n                created_card = Card(suit,rank)\n                self.all_cards.append(created_card)\n                \n    def shuffle(self):\n            \n            import random\n            random.shuffle(self.all_cards)\n            \n    def deal_one(self):\n        return self.all_cards.pop()",
      "metadata": {
        "trusted": true
      },
      "execution_count": 16,
      "outputs": []
    },
    {
      "cell_type": "code",
      "source": "for card in new_deck.all_cards:\n    print(card)",
      "metadata": {},
      "execution_count": null,
      "outputs": []
    },
    {
      "cell_type": "code",
      "source": "class Player():\n    \n    def __init__(self, name):\n        self.name =  name\n        self.all_cards = []\n        \n    def remove_one(self):\n        return self.all_cards.pop(0)\n    \n    def add_cards(self, new_cards):\n        if type(new_cards) == type([]):\n            self.all_cards.extend(new_cards)            \n        else:\n            self.all_cards.append(new_cards)\n    \n    def __str__(self):\n        return f'Player {self.name} has {len(self.all_cards)} cards.'",
      "metadata": {
        "trusted": true
      },
      "execution_count": 23,
      "outputs": []
    },
    {
      "cell_type": "code",
      "source": "print(player_one)\n\nfor card in player_one.all_cards:\n    print(card)",
      "metadata": {
        "trusted": true
      },
      "execution_count": null,
      "outputs": []
    },
    {
      "cell_type": "code",
      "source": "new_player.add_cards(new_card)",
      "metadata": {
        "trusted": true
      },
      "execution_count": null,
      "outputs": []
    },
    {
      "cell_type": "code",
      "source": "# GAME SETUP\nplayer_one = Player('One')\nplayer_two = Player('Two')\n\nnew_deck = Deck ()\nnew_deck.shuffle()\n\nfor x in range(26):\n    player_one.add_cards(new_deck.deal_one())\n    player_two.add_cards(new_deck.deal_one())",
      "metadata": {
        "trusted": true
      },
      "execution_count": 38,
      "outputs": []
    },
    {
      "cell_type": "code",
      "source": "game_on = True",
      "metadata": {
        "trusted": true
      },
      "execution_count": 39,
      "outputs": []
    },
    {
      "cell_type": "code",
      "source": "# While game_on\n\nround_num = 0\n\nwhile game_on:\n    round_num += 1\n    print(f'Round {round_num}')\n    \n    if len(player_one.all_cards) == 0:\n        print('Player One, out of cards! Player Two Wins!')\n        game_on = False\n        break\n        \n    if len(player_two.all_cards) == 0:\n        print('Player Two, out of cards! Player One Wins!')\n        game_on = False\n        break\n        \n    \n    player_one_cards = []\n    player_one_cards.append(player_one.remove_one())\n        \n    player_two_cards = []\n    player_two_cards.append(player_two.remove_one())\n    \n    at_war = True\n    \n    while at_war:\n        \n        if player_one_cards[-1].value > player_two_cards[-1].value:\n            \n            player_one.add_cards(player_one_cards)\n            player_one.add_cards(player_two_cards)\n            \n            at_war = False\n            \n        elif player_one_cards[-1].value < player_two_cards[-1].value:\n            \n            player_two.add_cards(player_one_cards)\n            player_two.add_cards(player_two_cards)\n            \n            at_war = False\n            \n        else:\n            print('THIS IS WAR!!!!!!!')\n            \n            if len(player_one.all_cards) < 5:\n                print('Player one unable to declare War')\n                print('Player Two WINS!')\n                game_on = False\n                break\n                \n            elif len(player_two.all_cards) < 5:\n                print('Player two unable to declare War')\n                print('Player One WINS!')\n                game_on = False\n                break\n                \n            else:\n                for num in range(5):\n                    player_one_cards.append(player_one.remove_one())\n                    player_two_cards.append(player_two.remove_one())\n            \n        \n        \n\n  # While at_war",
      "metadata": {
        "trusted": true
      },
      "execution_count": 40,
      "outputs": [
        {
          "name": "stdout",
          "text": "Round 1\nRound 2\nRound 3\nRound 4\nTHIS IS WAR!!!!!!!\nRound 5\nRound 6\nTHIS IS WAR!!!!!!!\nRound 7\nTHIS IS WAR!!!!!!!\nRound 8\nRound 9\nRound 10\nRound 11\nRound 12\nRound 13\nRound 14\nRound 15\nRound 16\nRound 17\nRound 18\nRound 19\nRound 20\nRound 21\nRound 22\nRound 23\nTHIS IS WAR!!!!!!!\nRound 24\nTHIS IS WAR!!!!!!!\nRound 25\nRound 26\nRound 27\nTHIS IS WAR!!!!!!!\nRound 28\nRound 29\nRound 30\nRound 31\nRound 32\nTHIS IS WAR!!!!!!!\nRound 33\nRound 34\nRound 35\nRound 36\nRound 37\nRound 38\nRound 39\nRound 40\nRound 41\nRound 42\nRound 43\nRound 44\nRound 45\nRound 46\nRound 47\nTHIS IS WAR!!!!!!!\nRound 48\nRound 49\nRound 50\nRound 51\nRound 52\nTHIS IS WAR!!!!!!!\nRound 53\nRound 54\nRound 55\nRound 56\nRound 57\nRound 58\nRound 59\nRound 60\nRound 61\nRound 62\nPlayer Two, out of cards! Player One Wins!\n",
          "output_type": "stream"
        }
      ]
    },
    {
      "cell_type": "code",
      "source": "",
      "metadata": {},
      "execution_count": null,
      "outputs": []
    },
    {
      "cell_type": "code",
      "source": "",
      "metadata": {},
      "execution_count": null,
      "outputs": []
    }
  ]
}